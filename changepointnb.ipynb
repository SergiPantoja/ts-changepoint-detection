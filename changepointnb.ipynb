{
 "cells": [
  {
   "cell_type": "markdown",
   "metadata": {},
   "source": [
    "### Sergio Pérez Pantoja    Matcom c-411\n",
    "### Change Point Detection"
   ]
  },
  {
   "cell_type": "markdown",
   "metadata": {},
   "source": [
    "#### Question 1\n",
    "Simulate a time series with $n = 500$ realisations distributed according to a \n",
    "probability law $L$ of your choice. This time series must have $K∗ \\ge 2$ changes\n",
    "in one or more dimensions of the parameters of $L$ (you set the value of $K*$\n",
    "as you wish). Plot this time series.\n"
   ]
  },
  {
   "cell_type": "code",
   "execution_count": null,
   "metadata": {},
   "outputs": [],
   "source": [
    "import numpy as np\n",
    "import matplotlib.pyplot as plt\n",
    "\n",
    "# Simulating time series\n",
    "np.random.seed(123) # For reproducibility\n",
    "n = 500\n",
    "# We use a normal distribution with K* = 2 changes in its params\n",
    "# mean (1st param) and standard deviation (2nd param) \n",
    "ts = np.concatenate(\n",
    "    [\n",
    "        np.random.normal(0, 1, 200),\n",
    "        np.random.normal(3, 1, 200),\n",
    "        np.random.normal(0, 2, 100)\n",
    "    ]\n",
    ")"
   ]
  },
  {
   "cell_type": "code",
   "execution_count": null,
   "metadata": {},
   "outputs": [],
   "source": [
    "# plot\n",
    "plt.figure(figsize=(10, 6))\n",
    "plt.plot(range(n), ts)\n",
    "plt.xlabel('Time')\n",
    "plt.ylabel('Value')\n",
    "plt.title('Simulated Time Series')\n",
    "plt.show()"
   ]
  },
  {
   "cell_type": "markdown",
   "metadata": {},
   "source": [
    "#### Question 2\n",
    "Derive a cost function that is appropriate for the data simulated in Question\n",
    "1. Briefly justify your choice (in a comment in your code)."
   ]
  },
  {
   "cell_type": "code",
   "execution_count": null,
   "metadata": {},
   "outputs": [],
   "source": [
    "def segment_cost(x):\n",
    "    n = len(x)\n",
    "    mu = np.mean(x)\n",
    "    sigma = np.std(x)\n",
    "    logL = -n/2 * np.log(2*np.pi) - n/2 * np.log(sigma**2) - 1/(2*sigma**2) * np.sum((x - mu)**2)\n",
    "    return -logL # We return the negative log-likelihood as we want to minimize the cost"
   ]
  },
  {
   "cell_type": "markdown",
   "metadata": {},
   "source": [
    "The choice of the negative log-likelihood as a cost function is justified by \n",
    "the fact that it is a standard approach in statistical model fitting, as \n",
    "maximizing the log-likelihood is equivalent to minimizing the negative \n",
    "log-likelihood. This approach is particularly suitable for data that is \n",
    "thought to follow a Normal distribution with variable mean and standard \n",
    "deviation, as is the case here."
   ]
  },
  {
   "cell_type": "markdown",
   "metadata": {},
   "source": [
    "#### Question 3\n",
    "Implement the optimal partition algorithm and test it on the data simulated\n",
    "in question 1."
   ]
  },
  {
   "cell_type": "code",
   "execution_count": null,
   "metadata": {},
   "outputs": [],
   "source": [
    "def optimal_partition(signal, seg_cost, K):\n",
    "    n = len(signal)\n",
    "    M = np.zeros((K, n, n))\n",
    "\n",
    "    for u in range(n):\n",
    "        for v in range(u+1, n):\n",
    "            M[0][u][v] = seg_cost(signal[u:v+1])\n",
    "    \n",
    "    if K > 1:\n",
    "        for k in range(1, K):\n",
    "            for u in range(n-k-1):\n",
    "                for v in range(u+k+1, n):\n",
    "                    if v-u > k+1:\n",
    "                        M[k][u][v] = min([M[k-1][u][t] + M[0][t+1][v] for t in range(u+k-1, v)])\n",
    "    \n",
    "    L = np.zeros((K+1), dtype=int)\n",
    "    L[K] = n - 1\n",
    "    k = K\n",
    "    while k > 0:\n",
    "        s = L[k]\n",
    "        tstar = np.argmin([M[0][t+1][s] + M[k-1][0][t] for t in range(k, s)])\n",
    "        L[k-1] = tstar\n",
    "        k -= 1\n",
    "    return L[:-1]"
   ]
  },
  {
   "cell_type": "code",
   "execution_count": null,
   "metadata": {},
   "outputs": [],
   "source": [
    "cp = optimal_partition(ts, segment_cost, 2)\n",
    "print(cp)\n",
    "#plot\n",
    "plt.figure(figsize=(10, 6))\n",
    "plt.plot(range(n), ts)\n",
    "for c in cp:\n",
    "    plt.axvline(c, color='red')\n",
    "plt.xlabel('Time')\n",
    "plt.ylabel('Value')\n",
    "plt.title('Optimal Partition')\n",
    "plt.show()\n",
    "\n",
    "# Note: It takes a while :)"
   ]
  },
  {
   "cell_type": "markdown",
   "metadata": {},
   "source": [
    "#### Question 4:\n",
    "Implement the PELT algorithm and test it using the data simulated in question 1. You will set the value of the penalty weight as $log(n)$."
   ]
  },
  {
   "cell_type": "code",
   "execution_count": null,
   "metadata": {},
   "outputs": [],
   "source": [
    "def PELT(data, seg_cost, pen, n_min):\n",
    "    if pen is None:\n",
    "        pen = np.log(len(data))\n",
    "\n",
    "    F = np.zeros(len(data), np.float32)\n",
    "    R = np.array([0], dtype=np.int32)\n",
    "    CP = np.zeros(len(data), np.int32)\n",
    "    F[:n_min] = -pen\n",
    "\n",
    "    for tstar in range(n_min, len(data)):\n",
    "        cost = np.zeros(R.shape[0], np.float32)\n",
    "        parr = []                  \n",
    "\n",
    "        for i, t in enumerate(R):\n",
    "            cost[i] = F[t] + seg_cost(data[t:tstar+1])\n",
    "            if abs(t - tstar) >= n_min:     \n",
    "                parr.append((cost[i] + pen, t))\n",
    "        if len(parr) > 0:\n",
    "            F[tstar], CP[tstar] = min(parr)\n",
    "        else:\n",
    "            continue\n",
    "\n",
    "        Rstar = []\n",
    "        for i, c in enumerate(cost):\n",
    "            if c <= F[tstar]:\n",
    "                Rstar.append(R[i])\n",
    "        Rstar.append(tstar)\n",
    "        R = np.array(Rstar, dtype=np.int32)\n",
    "\n",
    "    changepoints = [CP[-1]]\n",
    "    while changepoints[-1] > 0:\n",
    "        changepoints.append(CP[changepoints[-1]])\n",
    "    changepoints = changepoints[::-1]\n",
    "    return changepoints"
   ]
  },
  {
   "cell_type": "code",
   "execution_count": null,
   "metadata": {},
   "outputs": [],
   "source": [
    "pen = np.log(n)  # penalty value\n",
    "cp = PELT(ts, segment_cost, pen, 1)\n",
    "print(cp)\n",
    "#plot\n",
    "plt.figure(figsize=(10, 6))\n",
    "plt.plot(range(n), ts)\n",
    "for i in range(1, len(cp)):\n",
    "    plt.axvline(x=cp[i], color='red', linestyle='--')\n",
    "plt.xlabel('Time')\n",
    "plt.ylabel('Value')\n",
    "plt.title('PELT penalty = log(n)')\n",
    "plt.show()"
   ]
  },
  {
   "cell_type": "markdown",
   "metadata": {},
   "source": [
    "#### Question 5\n",
    "Test the PELT algorithm with other values of the penalty weight. Comment\n",
    "the results."
   ]
  },
  {
   "cell_type": "code",
   "execution_count": null,
   "metadata": {},
   "outputs": [],
   "source": [
    "pen2 = 0.1 * np.log(n)  # low penalty value\n",
    "cp = PELT(ts, segment_cost, pen2, 1)\n",
    "print(cp)\n",
    "#plot\n",
    "plt.figure(figsize=(10, 6))\n",
    "plt.plot(range(n), ts)\n",
    "for i in range(1, len(cp)):\n",
    "    plt.axvline(x=cp[i], color='red', linestyle='--')\n",
    "plt.xlabel('Time')\n",
    "plt.ylabel('Value')\n",
    "plt.title('PELT penalty = 0.1 * log(n)')\n",
    "plt.show()"
   ]
  },
  {
   "cell_type": "code",
   "execution_count": null,
   "metadata": {},
   "outputs": [],
   "source": [
    "pen3 = 2 * np.log(n)  # high penalty value\n",
    "cp = PELT(ts, segment_cost, pen3, 1)\n",
    "print(cp)\n",
    "#plot\n",
    "plt.figure(figsize=(10, 6))\n",
    "plt.plot(range(n), ts)\n",
    "for i in range(1, len(cp)):\n",
    "    plt.axvline(x=cp[i], color='red', linestyle='--')\n",
    "plt.xlabel('Time')\n",
    "plt.ylabel('Value')\n",
    "plt.title('PELT penalty = 2 * log(n)')\n",
    "plt.show()"
   ]
  },
  {
   "cell_type": "markdown",
   "metadata": {},
   "source": [
    "With a low penalty (e.g., 0.1 * log(n)), the algorithm detects many change points, \n",
    "including some that might be just noise. As the penalty increases, the number \n",
    "of detected change points should decrease, and with a high enough penalty the \n",
    "algorithm might miss some actual change points."
   ]
  }
 ],
 "metadata": {
  "kernelspec": {
   "display_name": "Python 3",
   "language": "python",
   "name": "python3"
  },
  "language_info": {
   "codemirror_mode": {
    "name": "ipython",
    "version": 3
   },
   "file_extension": ".py",
   "mimetype": "text/x-python",
   "name": "python",
   "nbconvert_exporter": "python",
   "pygments_lexer": "ipython3",
   "version": "3.10.7"
  },
  "orig_nbformat": 4
 },
 "nbformat": 4,
 "nbformat_minor": 2
}
